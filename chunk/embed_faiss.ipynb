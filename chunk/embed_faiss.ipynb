{
 "cells": [
  {
   "cell_type": "code",
   "execution_count": 1,
   "id": "5cf466ef",
   "metadata": {},
   "outputs": [
    {
     "name": "stderr",
     "output_type": "stream",
     "text": [
      "/Library/Frameworks/Python.framework/Versions/3.13/lib/python3.13/site-packages/tqdm/auto.py:21: TqdmWarning: IProgress not found. Please update jupyter and ipywidgets. See https://ipywidgets.readthedocs.io/en/stable/user_install.html\n",
      "  from .autonotebook import tqdm as notebook_tqdm\n"
     ]
    }
   ],
   "source": [
    "import json\n",
    "import faiss\n",
    "import numpy as np\n",
    "from sentence_transformers import SentenceTransformer\n",
    "from tqdm import tqdm\n",
    "\n",
    "BATCH_SIZE = 1024\n",
    "EMBED_MODEL = \"all-MiniLM-L6-v2\"\n",
    "INPUT_FILE = \"parsed_pmc_2_chunked.jsonl\"\n",
    "FAISS_INDEX_PATH = \"faiss_index.index\"\n",
    "METADATA_PATH = \"faiss_metadata.jsonl\""
   ]
  },
  {
   "cell_type": "code",
   "execution_count": 2,
   "id": "0b8695cb",
   "metadata": {},
   "outputs": [],
   "source": [
    "model = SentenceTransformer(EMBED_MODEL)\n",
    "index = None\n",
    "metadata = []"
   ]
  },
  {
   "cell_type": "code",
   "execution_count": 3,
   "id": "cfb50086",
   "metadata": {},
   "outputs": [
    {
     "name": "stderr",
     "output_type": "stream",
     "text": [
      "Processing JSONL: 1497it [00:07, 191.78it/s]\n"
     ]
    }
   ],
   "source": [
    "def embed_texts(texts):\n",
    "    return model.encode(texts, batch_size=32, show_progress_bar=False).astype('float32')\n",
    "\n",
    "with open(INPUT_FILE, \"r\") as fin:\n",
    "    batch_texts = []\n",
    "    batch_meta = []\n",
    "    for line in tqdm(fin, desc=\"Processing JSONL\"):\n",
    "        item = json.loads(line)\n",
    "        if item['section'] == 'id':  \n",
    "            continue\n",
    "        batch_texts.append(item['text'])\n",
    "        batch_meta.append(item)\n",
    "        if len(batch_texts) == BATCH_SIZE:\n",
    "            embs = embed_texts(batch_texts)\n",
    "            if index is None:\n",
    "                dim = embs.shape[1]\n",
    "                index = faiss.IndexFlatL2(dim)  #IndexFlatIP for cosine\n",
    "            index.add(embs)\n",
    "            metadata.extend(batch_meta)\n",
    "            batch_texts, batch_meta = [], []\n",
    "    # LEFTOVERS\n",
    "    if batch_texts:\n",
    "        embs = embed_texts(batch_texts)\n",
    "        if index is None:\n",
    "            dim = embs.shape[1]\n",
    "            index = faiss.IndexFlatL2(dim)\n",
    "        index.add(embs)\n",
    "        metadata.extend(batch_meta)"
   ]
  },
  {
   "cell_type": "code",
   "execution_count": 4,
   "id": "a1be726f",
   "metadata": {},
   "outputs": [],
   "source": [
    "faiss.write_index(index, FAISS_INDEX_PATH)\n",
    "with open(METADATA_PATH, \"w\") as fout:\n",
    "    for m in metadata:\n",
    "        fout.write(json.dumps(m) + \"\\n\")"
   ]
  },
  {
   "cell_type": "markdown",
   "id": "778ad1d1",
   "metadata": {},
   "source": [
    "## Experiment"
   ]
  },
  {
   "cell_type": "code",
   "execution_count": 7,
   "id": "ba3c847f",
   "metadata": {},
   "outputs": [
    {
     "name": "stdout",
     "output_type": "stream",
     "text": [
      "Nearest neighbors:\n",
      "Distances: [0.12918356 0.4176816  0.68611026 0.7343014  1.0372672 ]\n",
      "Indices: [620 621 626 625 623]\n",
      "Metadata for nearest neighbors:\n",
      "title Comparison of Tenon duplication with dura mater covering technique for Ahmed glaucoma valve implantation\n",
      "abstract To compare the efficacy and complications of Tenon duplication with dura mater covering technique for Ahmed glaucoma valve (AGV) implantation. This retrospective study included 44 refractory glaucoma patients (44 eyes) who underwent AGV implantation from 2017 to 2020 in the Ophthalmology Clinic of Eskişehir Osmangazi University Hospital and attended regular postoperative follow-ups. The patients were divided based on whether they underwent Tenon duplication technique (group 1: n = 20) or dura mater covering technique (group 2: n = 24) during surgery. The patients’ age, gender, systemic diseases, glaucoma type, pre-op intraocular pressure (IOP), and ocular surgeries were recorded. The groups were compared for IOP level control, early and late complications, postoperative antiglaucomatous medication requirements, glaucoma surgery requirements, presence of postoperative hypertensive phase (HP), and surgical success which was defined as an IOP ≥5 and ≤21 mmHg, with or without antiglaucoma medication. By the end of the mean follow-up (22.6 ± 10.6 months), the success rates were 95% (group 1) and 96% (group 2). The groups showed no differences in postoperative complications, postoperative antiglaucomatous drugs’ onset time, additional glaucoma surgery, need for needling, presence of HP at 6 months postoperatively, and relationship between the glaucoma type and success rates (P values: 0.86, 0.9, 0.48, 0.12, 0.36, and 0.8, respectively). The IOP values at the last follow-up were 15.2 ± 4.1 in group 1 and 14.7 ± 4.8 in group 2. The IOP reduction rates showed no significant differences. Since success and complications are similar in both Tenon duplication and dura mater covering technique, unique grafting materials may not be needed in AGV implantation surgery, except in special cases.\n",
      "discussion The limitations of our study include its retrospective nature, nonrandomized design, and follow-up loss at later time points. The selection bias due to the retrospective nature of the study could affect the reliability and validity. Although differences between the groups, especially in terms of gender, follow-up time, systemic disease, and glaucoma subtype, may affect the outcome of the study, we think that the acceptability of the study continues because there was no significant difference between the two groups. A possibility of overestimating surgical failure exists, as patients with more severe pathologies may continue to visit the ophthalmologist for longer periods. An underestimation of surgical failure is also possible due to the short follow-up time. The study’s strengths include the fact that all the operations were performed at a single hospital by two qualified surgeons. Comparison of the Tenon duplication technique and the dura mater covering technique also had not been done before. In conclusion, the use of special allograft materials, which can prolong the operation time and increase the patient’s economic burden, may not be necessary in AGV implantation surgery, except in special cases. Not applicable. This study was approved by the ethics committee of Eskişehir Osmangazi University, and the study complied with the tenets of the Declaration of Helsinki. Nil. There are no conflicts of interest.\n",
      "discussion Gedar Totuk et al. tried to prevent AGV tube exposure by creating a long scleral flap augmented with Tenon advancement and duplication; they had no exposure in the 2-year follow-up. Since an exposure case was seen in the Tenon duplication group in our study, it can be thought that adding the long scleral flap technique to the Tenon duplication technique may have an effect on reducing exposure. However, long scleral tunnel or scleral flap techniques are not ideal for all cases, such as in patients who have previously undergone multiple ocular surgeries and therefore have very thin scleral tissue. In those patients, the graft material would be combined with Tenon duplication technique to prevent tube exposure. Our study showed no significant difference between the two techniques in terms of surgical success and complications. The finding that there was no statistically significant difference in the IOP-lowering effect of both techniques and in the incidence of HP in our study is a valuable new result. There are over 1000 articles about AGV in the literature, yet there is no clear consensus on the failure criteria of AGV implantation. Although some authors consider the requirement of needling as a failure, there are some who consider the lack of regulation of IOP despite needling as a failure. For example, in the review of Riva et al. and the study of Eibschitz-Tsimhoni et al., cases whose IOP could not be controlled despite medical treatment and 5-FU injection together with needling were considered unsuccessful. We do not consider needling as a failure, as all of the patients in our study who needed needling achieved the desired IOP values after needling and the values were found to be within normal ranges in their follow-up. The limitations of our study include its retrospective nature, nonrandomized design, and follow-up loss at later time points. The selection bias due to the retrospective nature of the study could affect the reliability and validity.\n",
      "results IOP=intraocular pressure Analysis of the success rates according to the last examination pressure and HP in the first 6 months postoperatively based on previous surgery history before trabeculectomy revealed no significant differences (P-values: 1 and 0.39, respectively). No statistically significant differences were found in the comparative analysis of these same parameters with the type of previous surgery (P-values: 0.36 and 0.47, respectively). In terms of surgical techniques, no significant difference was observed in the statistical analyses of postoperative HP and antiglaucomatous onset time (P-values: 0.36 and 0.89, respectively). Group 2 showed a higher HP percentage, but no statistically significant difference was detected when evaluating postoperative complications, success according to the last examination pressure, and HP in the first 6 months according to the glaucoma type (P-values: 0.92, 0.71, and 0.39, respectively). Although the need for needling was seen more in the dura mater covering technique, this was not statistically significant (P = 0.124). There was no difference in survival rate over time between the two groups (P values in log rank: 0.968, Breslow: 0.611, and Tarone–Ware: 0.718). It was estimated that hypertensive recurrence would not occur for a median (95% confidence interval [CI], Low–Upp) of 24 (21.92–26.08) months in patients with Tenon duplication and 16 (8.54–23.46) months in patients with dura mater covering technic []. No vision loss was observed in any of the patients at their final follow-up. Means and medians for survival time with Kaplan–Meier analysis\n"
     ]
    }
   ],
   "source": [
    "index = faiss.read_index(\"faiss_index.index\")\n",
    "with open(\"faiss_metadata.jsonl\") as f:\n",
    "    meta = [json.loads(line) for line in f]\n",
    "\n",
    "query = \"What are the comparative outcomes of Tenon duplication versus dura mater covering techniques in Ahmed glaucoma valve implantation?\"\n",
    "query_emb = model.encode([query]).astype('float32')\n",
    "D, I = index.search(query_emb, k=5)\n",
    "#scores and indices of the nearest neighbors\n",
    "print(\"Nearest neighbors:\")\n",
    "print(\"Distances:\", D[0])\n",
    "print(\"Indices:\", I[0])\n",
    "# Print the metadata for the nearest neighbors\n",
    "print(\"Metadata for nearest neighbors:\")\n",
    "for idx in I[0]:\n",
    "    print(meta[idx]['section'], meta[idx]['text'])\n",
    "\n"
   ]
  }
 ],
 "metadata": {
  "kernelspec": {
   "display_name": "base",
   "language": "python",
   "name": "python3"
  },
  "language_info": {
   "codemirror_mode": {
    "name": "ipython",
    "version": 3
   },
   "file_extension": ".py",
   "mimetype": "text/x-python",
   "name": "python",
   "nbconvert_exporter": "python",
   "pygments_lexer": "ipython3",
   "version": "3.13.0"
  }
 },
 "nbformat": 4,
 "nbformat_minor": 5
}
