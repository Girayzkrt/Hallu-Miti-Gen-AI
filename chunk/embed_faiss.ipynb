{
 "cells": [
  {
   "cell_type": "code",
   "execution_count": null,
   "id": "5cf466ef",
   "metadata": {},
   "outputs": [],
   "source": [
    "import json\n",
    "import faiss\n",
    "import numpy as np\n",
    "from sentence_transformers import SentenceTransformer\n",
    "from tqdm import tqdm\n",
    "\n",
    "BATCH_SIZE = 1024\n",
    "EMBED_MODEL = \"all-MiniLM-L6-v2\"\n",
    "INPUT_FILE = \"chunked_output_paragraph_based.jsonl\"\n",
    "FAISS_INDEX_PATH = \"faiss_index.index\"\n",
    "METADATA_PATH = \"faiss_metadata.jsonl\""
   ]
  },
  {
   "cell_type": "code",
   "execution_count": 4,
   "id": "0b8695cb",
   "metadata": {},
   "outputs": [],
   "source": [
    "model = SentenceTransformer(EMBED_MODEL)\n",
    "index = None\n",
    "metadata = []"
   ]
  },
  {
   "cell_type": "code",
   "execution_count": 3,
   "id": "cfb50086",
   "metadata": {},
   "outputs": [
    {
     "name": "stderr",
     "output_type": "stream",
     "text": [
      "Processing JSONL: 67it [00:00, 66988.88it/s]\n"
     ]
    }
   ],
   "source": [
    "def embed_texts(texts):\n",
    "    return model.encode(texts, batch_size=32, show_progress_bar=False).astype('float32')\n",
    "\n",
    "with open(INPUT_FILE, \"r\") as fin:\n",
    "    batch_texts = []\n",
    "    batch_meta = []\n",
    "    for line in tqdm(fin, desc=\"Processing JSONL\"):\n",
    "        item = json.loads(line)\n",
    "        if item['section'] == 'id':  \n",
    "            continue\n",
    "        batch_texts.append(item['text'])\n",
    "        batch_meta.append(item)\n",
    "        if len(batch_texts) == BATCH_SIZE:\n",
    "            embs = embed_texts(batch_texts)\n",
    "            if index is None:\n",
    "                dim = embs.shape[1]\n",
    "                index = faiss.IndexFlatL2(dim)  #IndexFlatIP for cosine\n",
    "            index.add(embs)\n",
    "            metadata.extend(batch_meta)\n",
    "            batch_texts, batch_meta = [], []\n",
    "    # LEFTOVERS\n",
    "    if batch_texts:\n",
    "        embs = embed_texts(batch_texts)\n",
    "        if index is None:\n",
    "            dim = embs.shape[1]\n",
    "            index = faiss.IndexFlatL2(dim)\n",
    "        index.add(embs)\n",
    "        metadata.extend(batch_meta)"
   ]
  },
  {
   "cell_type": "code",
   "execution_count": null,
   "id": "a1be726f",
   "metadata": {},
   "outputs": [],
   "source": [
    "faiss.write_index(index, FAISS_INDEX_PATH)\n",
    "with open(METADATA_PATH, \"w\") as fout:\n",
    "    for m in metadata:\n",
    "        fout.write(json.dumps(m) + \"\\n\")"
   ]
  },
  {
   "cell_type": "markdown",
   "id": "778ad1d1",
   "metadata": {},
   "source": [
    "## Experiment"
   ]
  },
  {
   "cell_type": "code",
   "execution_count": 5,
   "id": "ba3c847f",
   "metadata": {},
   "outputs": [
    {
     "name": "stdout",
     "output_type": "stream",
     "text": [
      "title CD4 Effector T Cell Subsets in the Response to Influenza\n",
      "discussion It is important to focus on how to achieve this maximum differentiation, as the cell which can go to the site of infection are the ones that can participate in viral clearance. Also of interest is that even in this vigorous response, a broad spectrum of effectors which range over the gamut of properties are retained in spleen and LN and a fraction of each is retained after viral clearance. This multipotential population may have some advantage in a secondary response. The link between division and cytokine expression by T cells remains controversial. Cytokine expression by T cells involves epigenetic changes in chromatin structure, locus accessibility, and DNA methylation that occur during T cell differentiation. Production of high levels of IFN- and IL-4 production require S phase entry and are often well-correlated in vitro with multiple rounds of cell division. However, others have reported that T cell division is not strictly linked to effector function. When CD4 T cells cannot divide in vivo because antigen-specific T cells are overrepresented, they nonetheless can acquire the capacity to produce IFN- and similar results were observed in an in vitro model examining IL-4 production. In our studies, we have found that cell division correlated well with the capacity to produce IFN-, although this does not imply a causal link. More effector cells found in the lung produced IFN- compared with those from the secondary lymphoid tissues. Previous observations from Jenkins suggested that memory cells isolated from nonlymphoid tissues were more efficient producers of IFN-. The antiviral responses we examined clearly favored development of a Th1-polarized response. No IL-4 or IL-5 production was found by ex vivo intracellular cytokine staining, and as with the most differentiated effectors in vitro, IL-2 was relatively down-regulated on the cells recruited to the lung. What accounts for the striking heterogeneity seen in the effectors derived from the homogeneous naive CD4 TCR Tg T cells? One factor could be time. Division and progressive loss of the CFSE high undivided population of cells continued in the spleen through day 8, suggesting that naive cells continue to be recruited into the response. Perhaps with more time there is an increase in the probability that an individual naive cell will encounter an appropriate APC.\n",
      "introduction Adoptive transfer models, often using T cell receptor transgenic * donor cells, have enabled the study of primary immune responses in situ which have begun to yield new insights into the mechanisms involved in that response. Studies from Jenkins' laboratory have visualized the CD4 T cell response in the lymph nodes and spleen, highlighting the initial interaction of naive CD4 T cells, with dendritic cells presenting antigen, followed by the movement of the donor cells to other sites. A number of transfer studies with CD8 T cells have suggested that initial effective encounter with antigen in vivo, is sufficient to support activation and multiple rounds of cell division. The latter study suggested that CD8 T cells may respond in an all-or-none fashion. However, other studies have been more compatible with a heterogeneous response in vivo. A number of recent studies have indicated that during a primary immune response, effector cells become widely distributed to multiple sites, where they may have different functional potentials. Lanzavecchia and colleagues have proposed a division of memory T cells into central memory cells residing in secondary lymphoid tissues and identified by presence of CCR7 and effector memory residing in tertiary tissue sites and identified by the absence of CCR7. The pathways giving rise to these different populations and the factors influencing such possible pathways are largely undefined. We have analyzed the primary CD4 T cell response to influenza virus to determine whether the effector cells generated are heterogeneous and whether different subsets of effectors have different functional and phenotypic attributes and abilities to be recruited to a tertiary inflammatory site. We have used Thy1 disparate donor TCR Tg cells specific for viral hemagglutinin, adoptively transferred into normal BALB/c mice. Naive donor cells were labeled with a vital dye to detect their subsequent division in response to influenza virus. The transferred population was identified by using both the Thy1 difference and Ab to the TCR. The model described here has several distinct features. Influenza virus is administered intranasally where it first infects airway epithelial cells. The virus replicates only in these cells, so virus and inflammation are colocalized in the lung. Both CD4 and CD8 T cells respond vigorously to influenza infection and both can participate in clearing virus.\n",
      "results CD4+ T cells were purified from pooled spleen and lymph node suspensions obtained from C57BL/6, IFN-/, or Stat1/ mice, or from 3A9/+ and 3A9/IL-2/ mice. These cells were activated in vitro with anti-CD3 and anti-CD28, with the following cytokines added to the cultures: none, IL-2, or IFN-. Activated cells were collected 3 d later, and incubated on anti-CD3 coated plates in the presence of IL-2. Apoptosis was determined by Propidium Iodide staining. The same cells were analyzed for the expression of FasL and Fas by staining and flow cytometry. The filled histograms in G represent resting cells and the empty histograms represent activated T cells. The filled histograms in H represent cells that were stained with an isotype-matched control antibody and the empty histograms represent cells that were stained with anti-Fas. To ask if IFN- is required for the expression of Fas or FasL, activated T cells were stained with specific antibodies and analyzed by flow cytometry. As shown in, G and H, IFN- / and Stat-1/ T cells expressed normal levels of FasL and Fas. Furthermore, these T cells were also resistant to apoptosis induced by antibody-mediated cross-linking of Fas. Taken together, these results suggest that the defect in this pathway of AICD seen in IFN- / and Stat-1/ T cells must be downstream of the expression of the death receptor and its ligand. The sensitivity of cells to Fas-mediated apoptosis is controlled by the formation of the death-inducing signaling complex and the subsequent activation of caspases. Fas is cross-linked by its ligand, resulting in the binding of an adaptor protein, which then recruits and activates pro-caspase-8. The endogenous inhibitor of apoptosis, c-FLIP, blocks the binding of pro-caspase-8 and thus prevents the propagation of the apoptotic signal. In this sequence, FasL is proapoptotic and FLIP is antiapoptotic.\n",
      "results To assess the role of IFN- in AICD, we analyzed CD4+ T cells from knockout mice lacking IFN- or lacking the major transcription factor activated by the IFN receptor, Stat1. T cells activated with anti-CD3 plus anti-CD28 antibodies were exposed to anti-CD3 antibody, to mimic repeated antigen stimulation, and apoptosis was assayed. We have previously shown that under these conditions, death of CD4+ T cells is entirely dependent on Fas-Fas ligand interactions. Mice lacking IFN- or Stat1 did not undergo apoptosis whereas wild-type cells did. The defect of the IFN-/ mice was corrected by adding IFN-, showing that there is no intrinsic developmental defect in the T cells, and their resistance to AICD is entirely attributable to the lack of IFN- production. In addition, the activated IFN-/ T cells did not produce IL-4, suggesting that these cells did not differentiate into Th2 type cells by default. As expected, adding IFN- to wild-type T cells had no detectable effect. The finding that Stat1/ T cells show the same defect as IFN-/ cells indicates that the role of this cytokine in AICD is dependent on the Stat1 transcription factor. As we and others have shown previously, IL-2 is also required for AICD of CD4+ T cells. Addition of IL-2 restored the sensitivity of IL-2/ T cells to AICD, and addition of IFN- made IFN-/ T cells sensitive. However, the effect of each cytokine was specific, suggesting that IFN- and IL-2 are independently required for AICD and may act by distinct mechanisms. IL-2 and IFN- independently regulate AICD. CD4+ T cells were purified from pooled spleen and lymph node suspensions obtained from C57BL/6, IFN-/, or Stat1/ mice, or from 3A9/+ and 3A9/IL-2/ mice. These cells were activated in vitro with anti-CD3 and anti-CD28, with the following cytokines added to the cultures: none, IL-2, or IFN-.\n"
     ]
    }
   ],
   "source": [
    "index = faiss.read_index(\"faiss_index.index\")\n",
    "with open(\"faiss_metadata.jsonl\") as f:\n",
    "    meta = [json.loads(line) for line in f]\n",
    "\n",
    "query = \"Explain the function of CD4 T cells.\"\n",
    "query_emb = model.encode([query]).astype('float32')\n",
    "D, I = index.search(query_emb, k=5)\n",
    "for idx in I[0]:\n",
    "    print(meta[idx]['section'], meta[idx]['text'])\n",
    "\n"
   ]
  }
 ],
 "metadata": {
  "kernelspec": {
   "display_name": "base",
   "language": "python",
   "name": "python3"
  },
  "language_info": {
   "codemirror_mode": {
    "name": "ipython",
    "version": 3
   },
   "file_extension": ".py",
   "mimetype": "text/x-python",
   "name": "python",
   "nbconvert_exporter": "python",
   "pygments_lexer": "ipython3",
   "version": "3.12.3"
  }
 },
 "nbformat": 4,
 "nbformat_minor": 5
}
