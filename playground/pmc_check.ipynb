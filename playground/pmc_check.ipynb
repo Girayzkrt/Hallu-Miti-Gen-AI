{
 "cells": [
  {
   "cell_type": "code",
   "execution_count": null,
   "id": "ae583897",
   "metadata": {},
   "outputs": [],
   "source": [
    "import json\n",
    "import sys\n",
    "import os\n",
    "import argparse\n",
    "import logging\n",
    "import re\n",
    "import pandas as pd\n",
    "\n",
    "file_path = \"../data/parsed_pmc_2.jsonl\"\n",
    "def load_jsonl(file_path):\n",
    "    \"\"\"Load a JSON Lines file and return a list of dictionaries.\"\"\"\n",
    "    data = []\n",
    "    with open(file_path, 'r', encoding='utf-8') as file:\n",
    "        for line in file:\n",
    "            try:\n",
    "                data.append(json.loads(line))\n",
    "            except json.JSONDecodeError as e:\n",
    "                logging.error(f\"Error decoding JSON: {e}\")\n",
    "    return data"
   ]
  },
  {
   "cell_type": "code",
   "execution_count": null,
   "id": "ce35941a",
   "metadata": {},
   "outputs": [
    {
     "name": "stdout",
     "output_type": "stream",
     "text": [
      "[]\n"
     ]
    }
   ],
   "source": [
    "pmc_id = \"PMC3118178\"\n",
    "def filter_by_id(data, pmc_id):\n",
    "    \"\"\"Filter the data by PMC ID.\"\"\"\n",
    "    filtered_data = [item for item in data if item.get('id') == pmc_id]\n",
    "    return filtered_data\n",
    "print(filter_by_id(load_jsonl(file_path), pmc_id))"
   ]
  }
 ],
 "metadata": {
  "kernelspec": {
   "display_name": "base",
   "language": "python",
   "name": "python3"
  },
  "language_info": {
   "codemirror_mode": {
    "name": "ipython",
    "version": 3
   },
   "file_extension": ".py",
   "mimetype": "text/x-python",
   "name": "python",
   "nbconvert_exporter": "python",
   "pygments_lexer": "ipython3",
   "version": "3.12.3"
  }
 },
 "nbformat": 4,
 "nbformat_minor": 5
}
