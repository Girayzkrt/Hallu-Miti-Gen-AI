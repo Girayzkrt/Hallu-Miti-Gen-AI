{
 "cells": [
  {
   "cell_type": "code",
   "execution_count": 1,
   "id": "5cf466ef",
   "metadata": {},
   "outputs": [],
   "source": [
    "import json\n",
    "import faiss\n",
    "import numpy as np\n",
    "from sentence_transformers import SentenceTransformer\n",
    "from tqdm import tqdm\n",
    "\n",
    "BATCH_SIZE = 4096\n",
    "EMBED_MODEL = \"intfloat/e5-base-v2\"\n",
    "INPUT_FILE = \"data/parsed_pmc_2_chunked.jsonl\"\n",
    "FAISS_INDEX_PATH = \"data/faiss_index.index\"\n",
    "METADATA_PATH = \"data/faiss_metadata.jsonl\"\n",
    "SAVE_N_BATCHES = 10"
   ]
  },
  {
   "cell_type": "code",
   "execution_count": 2,
   "id": "0b8695cb",
   "metadata": {},
   "outputs": [],
   "source": [
    "model = SentenceTransformer(EMBED_MODEL)\n",
    "index = None\n",
    "metadata = []\n",
    "batch_count = 0"
   ]
  },
  {
   "cell_type": "code",
   "execution_count": null,
   "id": "5eac9a61",
   "metadata": {},
   "outputs": [],
   "source": [
    "def embed_texts(texts):\n",
    "    embs = model.encode(texts, batch_size=128, show_progress_bar=False).astype('float32')\n",
    "    norms = np.linalg.norm(embs, axis=1, keepdims=True)\n",
    "    embs = embs / (norms + 1e-10)\n",
    "    return embs\n"
   ]
  },
  {
   "cell_type": "code",
   "execution_count": null,
   "id": "cfb50086",
   "metadata": {},
   "outputs": [
    {
     "name": "stderr",
     "output_type": "stream",
     "text": [
      "Processing JSONL: 8797731it [19:43:43, 108.61it/s]"
     ]
    }
   ],
   "source": [
    "def save_checkpoint(index, metadata, index_path, metadata_path):\n",
    "    faiss.write_index(index, index_path)\n",
    "    # Append new metadata\n",
    "    with open(metadata_path, \"a\") as fout:\n",
    "        for meta in metadata:\n",
    "            fout.write(json.dumps(meta) + \"\\n\")\n",
    "\n",
    "with open(INPUT_FILE, \"r\") as fin:\n",
    "    batch_texts = []\n",
    "    batch_meta = []\n",
    "    for line in tqdm(fin, desc=\"Processing JSONL\"):\n",
    "        item = json.loads(line)\n",
    "        if item['section'] == 'id':\n",
    "            continue\n",
    "        batch_texts.append(item['text'])\n",
    "        batch_meta.append(item)\n",
    "        if len(batch_texts) == BATCH_SIZE:\n",
    "            embs = embed_texts(batch_texts)\n",
    "            if index is None:\n",
    "                dim = embs.shape[1]\n",
    "                index = faiss.IndexFlatIP(dim)\n",
    "            index.add(embs)\n",
    "            metadata.extend(batch_meta)\n",
    "            batch_texts, batch_meta = [], []\n",
    "            batch_count += 1\n",
    "            # Save after every N batches\n",
    "            if batch_count % SAVE_N_BATCHES == 0:\n",
    "                save_checkpoint(index, metadata, FAISS_INDEX_PATH, METADATA_PATH)\n",
    "                metadata = []\n",
    "\n",
    "    # Leftovers\n",
    "    if batch_texts:\n",
    "        embs = embed_texts(batch_texts)\n",
    "        if index is None:\n",
    "            dim = embs.shape[1]\n",
    "            index = faiss.IndexFlatIP(dim)\n",
    "        index.add(embs)\n",
    "        metadata.extend(batch_meta)\n",
    "\n",
    "    # save\n",
    "    if metadata:\n",
    "        save_checkpoint(index, metadata, FAISS_INDEX_PATH, METADATA_PATH)"
   ]
  },
  {
   "cell_type": "markdown",
   "id": "1aa7b99d",
   "metadata": {},
   "source": [
    "Ran yesterday for Processing JSONL: 8797731it [19:43:43, 108.61it/s]"
   ]
  },
  {
   "cell_type": "markdown",
   "id": "778ad1d1",
   "metadata": {},
   "source": [
    "## Experiment"
   ]
  },
  {
   "cell_type": "code",
   "execution_count": 4,
   "id": "ba3c847f",
   "metadata": {},
   "outputs": [
    {
     "name": "stdout",
     "output_type": "stream",
     "text": [
      "Nearest neighbors:\n",
      "Distances: [0.97176313 0.9260005  0.9045711  0.90162516 0.89384025]\n",
      "Indices: [    620     621  750243 1133490 2288789]\n",
      "Metadata for nearest neighbors:\n",
      "title Comparison of Tenon duplication with dura mater covering technique for Ahmed glaucoma valve implantation\n",
      "abstract To compare the efficacy and complications of Tenon duplication with dura mater covering technique for Ahmed glaucoma valve (AGV) implantation. This retrospective study included 44 refractory glaucoma patients (44 eyes) who underwent AGV implantation from 2017 to 2020 in the Ophthalmology Clinic of Eskişehir Osmangazi University Hospital and attended regular postoperative follow-ups. The patients were divided based on whether they underwent Tenon duplication technique (group 1: n = 20) or dura mater covering technique (group 2: n = 24) during surgery. The patients’ age, gender, systemic diseases, glaucoma type, pre-op intraocular pressure (IOP), and ocular surgeries were recorded. The groups were compared for IOP level control, early and late complications, postoperative antiglaucomatous medication requirements, glaucoma surgery requirements, presence of postoperative hypertensive phase (HP), and surgical success which was defined as an IOP ≥5 and ≤21 mmHg, with or without antiglaucoma medication. By the end of the mean follow-up (22.6 ± 10.6 months), the success rates were 95% (group 1) and 96% (group 2). The groups showed no differences in postoperative complications, postoperative antiglaucomatous drugs’ onset time, additional glaucoma surgery, need for needling, presence of HP at 6 months postoperatively, and relationship between the glaucoma type and success rates (P values: 0.86, 0.9, 0.48, 0.12, 0.36, and 0.8, respectively). The IOP values at the last follow-up were 15.2 ± 4.1 in group 1 and 14.7 ± 4.8 in group 2. The IOP reduction rates showed no significant differences. Since success and complications are similar in both Tenon duplication and dura mater covering technique, unique grafting materials may not be needed in AGV implantation surgery, except in special cases.\n",
      "title Surgical Outcomes of Different Ahmed Glaucoma Valve Implantation Methods between Scleral Graft and Scleral Flap\n",
      "title Clinical Outcomes after Combined Ahmed Glaucoma Valve Implantation and Penetrating Keratoplasty or Pars Plana Vitrectomy\n",
      "title Outcomes of Ahmed glaucoma valve implantation in advanced primary congenital glaucoma with previous surgical failure\n"
     ]
    }
   ],
   "source": [
    "index = faiss.read_index(\"data/faiss_index.index\")\n",
    "with open(\"data/faiss_metadata.jsonl\") as f:\n",
    "    meta = [json.loads(line) for line in f]\n",
    "\n",
    "query = \"What are the comparative outcomes of Tenon duplication versus dura mater covering techniques in Ahmed glaucoma valve implantation?\"\n",
    "query_emb = model.encode([query]).astype('float32')\n",
    "D, I = index.search(query_emb, k=5)\n",
    "#scores and indices of the nearest neighbors\n",
    "print(\"Nearest neighbors:\")\n",
    "print(\"Distances:\", D[0])\n",
    "print(\"Indices:\", I[0])\n",
    "# Print the metadata for the nearest neighbors\n",
    "print(\"Metadata for nearest neighbors:\")\n",
    "for idx in I[0]:\n",
    "    print(meta[idx]['section'], meta[idx]['text'])\n",
    "\n"
   ]
  },
  {
   "cell_type": "markdown",
   "id": "c193c828",
   "metadata": {},
   "source": [
    "#### L2 Distance Output\n",
    "Nearest neighbors:\n",
    "Distances: [0.9354083  0.7911593  0.65694475 0.6328492  0.48136634]\n",
    "Indices: [620 621 626 625 623]"
   ]
  },
  {
   "cell_type": "markdown",
   "id": "1f550ac2",
   "metadata": {},
   "source": [
    "#### Cosine Similarity with parsed_pmc_2_s_chunked » 200.000\n",
    "\n",
    "Nearest neighbors:\n",
    "Distances: [0.971763   0.9260006  0.8907722  0.88272965 0.8749901 ]\n",
    "Indices: [620 621 625 626 624]\n",
    "Metadata for nearest neighbors:\n",
    "title Comparison of Tenon duplication with dura mater covering technique for Ahmed glaucoma valve implantation\n",
    "abstract To compare the efficacy and complications of Tenon duplication with dura mater covering technique for Ahmed glaucoma valve (AGV) implantation. This retrospective study included 44 refractory glaucoma patients (44 eyes) who underwent AGV implantation from 2017 to 2020 in the Ophthalmology Clinic of Eskişehir Osmangazi University Hospital and attended regular postoperative follow-ups. The patients were divided based on whether they underwent Tenon duplication technique (group 1: n = 20) or dura mater covering technique (group 2: n = 24) during surgery. The patients’ age, gender, systemic diseases, glaucoma type, pre-op intraocular pressure (IOP), and ocular surgeries were recorded. The groups were compared for IOP level control, early and late complications, postoperative antiglaucomatous medication requirements, glaucoma surgery requirements, presence of postoperative hypertensive phase (HP), and surgical success which was defined as an IOP ≥5 and ≤21 mmHg, with or without antiglaucoma medication. By the end of the mean follow-up (22.6 ± 10.6 months), the success rates were 95% (group 1) and 96% (group 2). The groups showed no differences in postoperative complications, postoperative antiglaucomatous drugs’ onset time, additional glaucoma surgery, need for needling, presence of HP at 6 months postoperatively, and relationship between the glaucoma type and success rates (P values: 0.86, 0.9, 0.48, 0.12, 0.36, and 0.8, respectively). The IOP values at the last follow-up were 15.2 ± 4.1 in group 1 and 14.7 ± 4.8 in group 2. The IOP reduction rates showed no significant differences. Since success and complications are similar in both Tenon duplication and dura mater covering technique, unique grafting materials may not be needed in AGV implantation surgery, except in special cases.\n",
    "discussion Gedar Totuk et al. tried to prevent AGV tube exposure by creating a long scleral flap augmented with Tenon advancement and duplication; they had no exposure in the 2-year follow-up. Since an exposure case was seen in the Tenon duplication group in our study, it can be thought that adding the long scleral flap technique to the Tenon duplication technique may have an effect on reducing exposure. However, long scleral tunnel or scleral flap techniques are not ideal for all cases, such as in patients who have previously undergone multiple ocular surgeries and therefore have very thin scleral tissue. In those patients, the graft material would be combined with Tenon duplication technique to prevent tube exposure. Our study showed no significant difference between the two techniques in terms of surgical success and complications. The finding that there was no statistically significant difference in the IOP-lowering effect of both techniques and in the incidence of HP in our study is a valuable new result. There are over 1000 articles about AGV in the literature, yet there is no clear consensus on the failure criteria of AGV implantation. Although some authors consider the requirement of needling as a failure, there are some who consider the lack of regulation of IOP despite needling as a failure. For example, in the review of Riva et al. and the study of Eibschitz-Tsimhoni et al., cases whose IOP could not be controlled despite medical treatment and 5-FU injection together with needling were considered unsuccessful. We do not consider needling as a failure, as all of the patients in our study who needed needling achieved the desired IOP values after needling and the values were found to be within normal ranges in their follow-up. The limitations of our study include its retrospective nature, nonrandomized design, and follow-up loss at later time points. The selection bias due to the retrospective nature of the study could affect the reliability and validity.\n",
    "discussion The limitations of our study include its retrospective nature, nonrandomized design, and follow-up loss at later time points. The selection bias due to the retrospective nature of the study could affect the reliability and validity. Although differences between the groups, especially in terms of gender, follow-up time, systemic disease, and glaucoma subtype, may affect the outcome of the study, we think that the acceptability of the study continues because there was no significant difference between the two groups. A possibility of overestimating surgical failure exists, as patients with more severe pathologies may continue to visit the ophthalmologist for longer periods. An underestimation of surgical failure is also possible due to the short follow-up time. The study’s strengths include the fact that all the operations were performed at a single hospital by two qualified surgeons. Comparison of the Tenon duplication technique and the dura mater covering technique also had not been done before. In conclusion, the use of special allograft materials, which can prolong the operation time and increase the patient’s economic burden, may not be necessary in AGV implantation surgery, except in special cases. Not applicable. This study was approved by the ethics committee of Eskişehir Osmangazi University, and the study complied with the tenets of the Declaration of Helsinki. Nil. There are no conflicts of interest.\n",
    "discussion Filtering surgery is usually the first surgical option for glaucoma treatment. GDDs, such as AGV, are often an option available to patients with glaucoma refractory to filtering surgeries. Although GDDs have been used frequently for years to reduce eye pressure, complications of AGV, such as tube exposure, choroidal detachment, hyphema, iris–lens touch, and encapsulation, can occur. Ou et al. reported that the most common complication after AGV implantation in patients with primary congenital glaucoma was tube–corneal touch. Tube exposure is also a significant AGV implantation problem, as it leads to both mechanical damage and inflammation-mediated melting of the self-tissue or the donor graft. Inferiorly placed implants, diabetes, presence of prior inflammation, previous ocular surgery, and younger age are well-known risk factors for tube exposure associated with GDDs. In addition, there are studies claiming that previous eye surgery is not a risk factor for exposure. Untreated cases of tube exposure are well known to lead to possible endophthalmitis, with a poor prognosis. Recognizing these complications of AGV tube, we investigated the methods and modifications that could potentially prevent exposure and maintain IOP reduction during the postoperative period. Although a number of surgical methods have been described to prevent tube exposure, such as placement of patch graft (e.g., fascia lata, pericardium, donor sclera, or lyophilized dura mater), lengthy scleral tunnel, and/or duplication and advancement of Tenon’s tissue, there is no consensus on the best approach. Tamcelik et al. divided their patients into three groups according to the covering techniques used during AGV implantation. They did not see any exposure in the Tenon duplication group and claimed it to be the safest method. Gedar Totuk et al. tried to prevent AGV tube exposure by creating a long scleral flap augmented with Tenon advancement and duplication; they had no exposure in the 2-year follow-up."
   ]
  },
  {
   "cell_type": "markdown",
   "id": "81b64ee9",
   "metadata": {},
   "source": [
    "Last outcome with newest index which is not fully embedded\n",
    "Nearest neighbors:\n",
    "Distances: [0.97176313 0.9260005  0.9045711  0.90162516 0.89384025]\n",
    "Indices: [    620     621  750243 1133490 2288789]\n",
    "Metadata for nearest neighbors:\n",
    "title Comparison of Tenon duplication with dura mater covering technique for Ahmed glaucoma valve implantation\n",
    "abstract To compare the efficacy and complications of Tenon duplication with dura mater covering technique for Ahmed glaucoma valve (AGV) implantation. This retrospective study included 44 refractory glaucoma patients (44 eyes) who underwent AGV implantation from 2017 to 2020 in the Ophthalmology Clinic of Eskişehir Osmangazi University Hospital and attended regular postoperative follow-ups. The patients were divided based on whether they underwent Tenon duplication technique (group 1: n = 20) or dura mater covering technique (group 2: n = 24) during surgery. The patients’ age, gender, systemic diseases, glaucoma type, pre-op intraocular pressure (IOP), and ocular surgeries were recorded. The groups were compared for IOP level control, early and late complications, postoperative antiglaucomatous medication requirements, glaucoma surgery requirements, presence of postoperative hypertensive phase (HP), and surgical success which was defined as an IOP ≥5 and ≤21 mmHg, with or without antiglaucoma medication. By the end of the mean follow-up (22.6 ± 10.6 months), the success rates were 95% (group 1) and 96% (group 2). The groups showed no differences in postoperative complications, postoperative antiglaucomatous drugs’ onset time, additional glaucoma surgery, need for needling, presence of HP at 6 months postoperatively, and relationship between the glaucoma type and success rates (P values: 0.86, 0.9, 0.48, 0.12, 0.36, and 0.8, respectively). The IOP values at the last follow-up were 15.2 ± 4.1 in group 1 and 14.7 ± 4.8 in group 2. The IOP reduction rates showed no significant differences. Since success and complications are similar in both Tenon duplication and dura mater covering technique, unique grafting materials may not be needed in AGV implantation surgery, except in special cases.\n",
    "title Surgical Outcomes of Different Ahmed Glaucoma Valve Implantation Methods between Scleral Graft and Scleral Flap\n",
    "title Clinical Outcomes after Combined Ahmed Glaucoma Valve Implantation and Penetrating Keratoplasty or Pars Plana Vitrectomy\n",
    "title Outcomes of Ahmed glaucoma valve implantation in advanced primary congenital glaucoma with previous surgical failure"
   ]
  }
 ],
 "metadata": {
  "kernelspec": {
   "display_name": "base",
   "language": "python",
   "name": "python3"
  },
  "language_info": {
   "codemirror_mode": {
    "name": "ipython",
    "version": 3
   },
   "file_extension": ".py",
   "mimetype": "text/x-python",
   "name": "python",
   "nbconvert_exporter": "python",
   "pygments_lexer": "ipython3",
   "version": "3.12.3"
  }
 },
 "nbformat": 4,
 "nbformat_minor": 5
}
