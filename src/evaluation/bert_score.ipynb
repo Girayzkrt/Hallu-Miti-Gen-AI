{
 "cells": [
  {
   "cell_type": "code",
   "execution_count": 3,
   "id": "74c52fae",
   "metadata": {},
   "outputs": [
    {
     "name": "stderr",
     "output_type": "stream",
     "text": [
      "Some weights of RobertaModel were not initialized from the model checkpoint at roberta-large and are newly initialized: ['pooler.dense.bias', 'pooler.dense.weight']\n",
      "You should probably TRAIN this model on a down-stream task to be able to use it for predictions and inference.\n"
     ]
    },
    {
     "name": "stdout",
     "output_type": "stream",
     "text": [
      "calculating scores...\n",
      "computing bert embedding.\n"
     ]
    },
    {
     "data": {
      "application/vnd.jupyter.widget-view+json": {
       "model_id": "27ca89d278b947939d73baffecc37add",
       "version_major": 2,
       "version_minor": 0
      },
      "text/plain": [
       "  0%|          | 0/1 [00:00<?, ?it/s]"
      ]
     },
     "metadata": {},
     "output_type": "display_data"
    },
    {
     "name": "stdout",
     "output_type": "stream",
     "text": [
      "computing greedy matching.\n"
     ]
    },
    {
     "data": {
      "application/vnd.jupyter.widget-view+json": {
       "model_id": "066abfa3d6ae4b7ea286f0356db6e4c4",
       "version_major": 2,
       "version_minor": 0
      },
      "text/plain": [
       "  0%|          | 0/1 [00:00<?, ?it/s]"
      ]
     },
     "metadata": {},
     "output_type": "display_data"
    },
    {
     "name": "stdout",
     "output_type": "stream",
     "text": [
      "done in 0.05 seconds, 22.13 sentences/sec\n",
      "BERTScore F1: 0.8612189292907715\n",
      "Precision: 0.8496980667114258\n",
      "Recall: 0.8730564713478088\n"
     ]
    }
   ],
   "source": [
    "from bert_score import score\n",
    "\n",
    "predictions = [\"The case report describes the use of a patient-controlled oxycodone device for dyspnoea relief in palliative care, while the study investigates long-term opioid prescription for chronic breathlessness in non-malignant respiratory diseases. No specific information is provided regarding genetic factors influencing opioid response for breathlessness in these texts.\"]\n",
    "references = [\"Opioid PCT is a feasible and acceptable therapeutic method to reduce refractory breathlessness in palliative care patients.\"]\n",
    "\n",
    "P, R, F1 = score(predictions, references, lang=\"en\", verbose=True)\n",
    "print(\"BERTScore F1:\", F1.mean().item())\n",
    "print(\"Precision:\", P.mean().item())\n",
    "print(\"Recall:\", R.mean().item())"
   ]
  }
 ],
 "metadata": {
  "kernelspec": {
   "display_name": "base",
   "language": "python",
   "name": "python3"
  },
  "language_info": {
   "codemirror_mode": {
    "name": "ipython",
    "version": 3
   },
   "file_extension": ".py",
   "mimetype": "text/x-python",
   "name": "python",
   "nbconvert_exporter": "python",
   "pygments_lexer": "ipython3",
   "version": "3.12.3"
  }
 },
 "nbformat": 4,
 "nbformat_minor": 5
}
