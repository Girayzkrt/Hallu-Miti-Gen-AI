{
 "cells": [
  {
   "cell_type": "code",
   "execution_count": 16,
   "id": "26908154",
   "metadata": {},
   "outputs": [
    {
     "data": {
      "text/html": [
       "<div>\n",
       "<style scoped>\n",
       "    .dataframe tbody tr th:only-of-type {\n",
       "        vertical-align: middle;\n",
       "    }\n",
       "\n",
       "    .dataframe tbody tr th {\n",
       "        vertical-align: top;\n",
       "    }\n",
       "\n",
       "    .dataframe thead th {\n",
       "        text-align: right;\n",
       "    }\n",
       "</style>\n",
       "<table border=\"1\" class=\"dataframe\">\n",
       "  <thead>\n",
       "    <tr style=\"text-align: right;\">\n",
       "      <th></th>\n",
       "      <th>Question_ID</th>\n",
       "      <th>No_Chunk_Score</th>\n",
       "      <th>Chunked_Score</th>\n",
       "    </tr>\n",
       "  </thead>\n",
       "  <tbody>\n",
       "    <tr>\n",
       "      <th>0</th>\n",
       "      <td>1</td>\n",
       "      <td>0.880854</td>\n",
       "      <td>0.890674</td>\n",
       "    </tr>\n",
       "    <tr>\n",
       "      <th>1</th>\n",
       "      <td>2</td>\n",
       "      <td>0.890764</td>\n",
       "      <td>0.892220</td>\n",
       "    </tr>\n",
       "    <tr>\n",
       "      <th>2</th>\n",
       "      <td>3</td>\n",
       "      <td>0.892746</td>\n",
       "      <td>0.897721</td>\n",
       "    </tr>\n",
       "    <tr>\n",
       "      <th>3</th>\n",
       "      <td>4</td>\n",
       "      <td>0.891314</td>\n",
       "      <td>0.897426</td>\n",
       "    </tr>\n",
       "    <tr>\n",
       "      <th>4</th>\n",
       "      <td>5</td>\n",
       "      <td>0.878462</td>\n",
       "      <td>0.884526</td>\n",
       "    </tr>\n",
       "  </tbody>\n",
       "</table>\n",
       "</div>"
      ],
      "text/plain": [
       "   Question_ID  No_Chunk_Score  Chunked_Score\n",
       "0            1        0.880854       0.890674\n",
       "1            2        0.890764       0.892220\n",
       "2            3        0.892746       0.897721\n",
       "3            4        0.891314       0.897426\n",
       "4            5        0.878462       0.884526"
      ]
     },
     "execution_count": 16,
     "metadata": {},
     "output_type": "execute_result"
    }
   ],
   "source": [
    "import pandas as pd\n",
    "import seaborn as sns\n",
    "import matplotlib.pyplot as plt\n",
    "\n",
    "df = pd.read_csv('../../data/eval_reports/cosine_score_comparison.csv')\n",
    "df.head()"
   ]
  },
  {
   "cell_type": "code",
   "execution_count": 21,
   "id": "74f2f555",
   "metadata": {},
   "outputs": [
    {
     "name": "stdout",
     "output_type": "stream",
     "text": [
      "Cosine score mean without chunking: 0.88715878908\n",
      "Cosine score mean with chunking: 0.8991157761199999\n"
     ]
    }
   ],
   "source": [
    "#mean of no_chunk_score column\n",
    "mean_no_chunk_score = df['No_Chunk_Score'].mean()\n",
    "#mean of chunk_score column\n",
    "mean_chunk_score = df['Chunked_Score'].mean()\n",
    "print(f'Cosine score mean without chunking: {mean_no_chunk_score}')\n",
    "print(f'Cosine score mean with chunking: {mean_chunk_score}')\n"
   ]
  }
 ],
 "metadata": {
  "kernelspec": {
   "display_name": "base",
   "language": "python",
   "name": "python3"
  },
  "language_info": {
   "codemirror_mode": {
    "name": "ipython",
    "version": 3
   },
   "file_extension": ".py",
   "mimetype": "text/x-python",
   "name": "python",
   "nbconvert_exporter": "python",
   "pygments_lexer": "ipython3",
   "version": "3.12.3"
  }
 },
 "nbformat": 4,
 "nbformat_minor": 5
}
